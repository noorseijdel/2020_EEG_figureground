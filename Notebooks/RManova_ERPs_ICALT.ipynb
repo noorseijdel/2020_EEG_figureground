{
 "cells": [
  {
   "cell_type": "code",
   "execution_count": 1,
   "metadata": {},
   "outputs": [],
   "source": [
    "import matplotlib\n",
    "import matplotlib.pyplot as plt\n",
    "import numpy as np\n",
    "import pandas as pd\n",
    "import glob\n",
    "from scipy import stats\n",
    "from statsmodels.stats.anova import AnovaRM\n",
    "%matplotlib inline "
   ]
  },
  {
   "cell_type": "markdown",
   "metadata": {},
   "source": [
    "### Load dataframes for the different timepoints, perform Repeated Measures ANOVA on average EEG amplitude with condition (low, med, high) and masking (masked, unmasked) as within subject factors "
   ]
  },
  {
   "cell_type": "code",
   "execution_count": 2,
   "metadata": {},
   "outputs": [
    {
     "name": "stdout",
     "output_type": "stream",
     "text": [
      "pool - t1\n",
      "                     Anova\n",
      "===============================================\n",
      "                  F Value Num DF  Den DF Pr > F\n",
      "-----------------------------------------------\n",
      "condition          0.3381 2.0000 36.0000 0.7154\n",
      "masking            1.5255 1.0000 18.0000 0.2327\n",
      "condition:masking  0.0382 2.0000 36.0000 0.9625\n",
      "===============================================\n",
      "\n",
      "p_eta_s =  [0.018437239262345147]\n",
      "pool - t2\n",
      "                     Anova\n",
      "===============================================\n",
      "                  F Value Num DF  Den DF Pr > F\n",
      "-----------------------------------------------\n",
      "condition         22.8766 2.0000 36.0000 0.0000\n",
      "masking            5.3779 1.0000 18.0000 0.0324\n",
      "condition:masking  0.1714 2.0000 36.0000 0.8432\n",
      "===============================================\n",
      "\n",
      "p_eta_s =  [0.5596503341282745]\n",
      "pool - t3\n",
      "                     Anova\n",
      "===============================================\n",
      "                  F Value Num DF  Den DF Pr > F\n",
      "-----------------------------------------------\n",
      "condition         24.2132 2.0000 36.0000 0.0000\n",
      "masking            2.4572 1.0000 18.0000 0.1344\n",
      "condition:masking  0.5695 2.0000 36.0000 0.5708\n",
      "===============================================\n",
      "\n",
      "p_eta_s =  [0.5735931688256783]\n",
      "pool - t4\n",
      "                     Anova\n",
      "===============================================\n",
      "                  F Value Num DF  Den DF Pr > F\n",
      "-----------------------------------------------\n",
      "condition          1.3236 2.0000 36.0000 0.2788\n",
      "masking           59.5977 1.0000 18.0000 0.0000\n",
      "condition:masking  5.2977 2.0000 36.0000 0.0096\n",
      "===============================================\n",
      "\n",
      "p_eta_s =  [0.06849648820924421]\n",
      "pool - t5\n",
      "                     Anova\n",
      "===============================================\n",
      "                  F Value Num DF  Den DF Pr > F\n",
      "-----------------------------------------------\n",
      "condition          0.4526 2.0000 36.0000 0.6395\n",
      "masking            2.5206 1.0000 18.0000 0.1298\n",
      "condition:masking  0.1001 2.0000 36.0000 0.9050\n",
      "===============================================\n",
      "\n",
      "p_eta_s =  [0.024528911322521062]\n"
     ]
    }
   ],
   "source": [
    "print(\"pool - t1\")\n",
    "df_t1=pd.read_csv('E:/Projects/2020_recurrentprocessing/Data/extra20/data_t1_75_81_pool_elec.csv')\n",
    "aovrm = AnovaRM(df_t1, 'c', 'subj_idx', within=['condition','masking'])\n",
    "fit = aovrm.fit()\n",
    "print(fit)\n",
    "p_eta_s = [] #compute partial eta squared \n",
    "p_eta_s.append((fit.anova_table['F Value'][0]*fit.anova_table['Num DF'][0])/((fit.anova_table['F Value'][0]*fit.anova_table['Num DF'][0])+fit.anova_table['Den DF'][0]))\n",
    "print('p_eta_s = ', p_eta_s)\n",
    "\n",
    "print(\"pool - t2\")\n",
    "df_t2=pd.read_csv('E:/Projects/2020_recurrentprocessing/Data/extra20/data_t2_82_90_pool_elec.csv')\n",
    "aovrm = AnovaRM(df_t2, 'c', 'subj_idx', within=['condition','masking'])\n",
    "fit = aovrm.fit()\n",
    "print(fit)\n",
    "p_eta_s = [] #compute partial eta squared \n",
    "p_eta_s.append((fit.anova_table['F Value'][0]*fit.anova_table['Num DF'][0])/((fit.anova_table['F Value'][0]*fit.anova_table['Num DF'][0])+fit.anova_table['Den DF'][0]))\n",
    "print('p_eta_s = ', p_eta_s)\n",
    "\n",
    "print(\"pool - t3\")\n",
    "df_t3=pd.read_csv('E:/Projects/2020_recurrentprocessing/Data/extra20/data_t3_91_107_pool_elec.csv')\n",
    "aovrm = AnovaRM(df_t3, 'c', 'subj_idx', within=['condition','masking'])\n",
    "fit = aovrm.fit()\n",
    "print(fit)\n",
    "p_eta_s = [] #compute partial eta squared \n",
    "p_eta_s.append((fit.anova_table['F Value'][0]*fit.anova_table['Num DF'][0])/((fit.anova_table['F Value'][0]*fit.anova_table['Num DF'][0])+fit.anova_table['Den DF'][0]))\n",
    "print('p_eta_s = ', p_eta_s)\n",
    "\n",
    "print(\"pool - t4\")\n",
    "df_t4=pd.read_csv('E:/Projects/2020_recurrentprocessing/Data/extra20/data_t4_108_122_pool_elec.csv')\n",
    "aovrm = AnovaRM(df_t4, 'c', 'subj_idx', within=['condition','masking'])\n",
    "fit = aovrm.fit()\n",
    "print(fit)\n",
    "p_eta_s = [] #compute partial eta squared \n",
    "p_eta_s.append((fit.anova_table['F Value'][0]*fit.anova_table['Num DF'][0])/((fit.anova_table['F Value'][0]*fit.anova_table['Num DF'][0])+fit.anova_table['Den DF'][0]))\n",
    "print('p_eta_s = ', p_eta_s)\n",
    "\n",
    "print(\"pool - t5\")\n",
    "df_t5=pd.read_csv('E:/Projects/2020_recurrentprocessing/Data/extra20/data_t5_123_140_pool_elec.csv')\n",
    "aovrm = AnovaRM(df_t5, 'c', 'subj_idx', within=['condition','masking'])\n",
    "fit = aovrm.fit()\n",
    "print(fit)\n",
    "p_eta_s = [] #compute partial eta squared \n",
    "p_eta_s.append((fit.anova_table['F Value'][0]*fit.anova_table['Num DF'][0])/((fit.anova_table['F Value'][0]*fit.anova_table['Num DF'][0])+fit.anova_table['Den DF'][0]))\n",
    "print('p_eta_s = ', p_eta_s)\n"
   ]
  },
  {
   "cell_type": "markdown",
   "metadata": {},
   "source": [
    "## Plot 5 timepoints in one figure"
   ]
  },
  {
   "cell_type": "code",
   "execution_count": 3,
   "metadata": {
    "scrolled": true
   },
   "outputs": [],
   "source": [
    "df_t1.rename(columns={\"c\": \"tp_1\"}, inplace=True)\n",
    "df_t2.rename(columns={\"c\": \"tp_2\"}, inplace=True)\n",
    "df_t3.rename(columns={\"c\": \"tp_3\"}, inplace=True)\n",
    "df_t4.rename(columns={\"c\": \"tp_4\"}, inplace=True)\n",
    "df_t5.rename(columns={\"c\": \"tp_5\"}, inplace=True)\n",
    "\n",
    "# print(df_t1.head(5))\n",
    "# print(df_t2.head(5))\n",
    "# print(df_t3.head(5))\n",
    "merged_t1_t2 = pd.merge(left=df_t1,right=df_t2, left_on=['subj_idx', 'masking', 'condition'], right_on=['subj_idx', 'masking', 'condition'])\n",
    "# print(merged_t1_t2.head(5))\n"
   ]
  },
  {
   "cell_type": "code",
   "execution_count": 4,
   "metadata": {},
   "outputs": [
    {
     "name": "stderr",
     "output_type": "stream",
     "text": [
      "C:\\Users\\noors\\anaconda3\\envs\\BP2\\lib\\site-packages\\pandas\\core\\frame.py:3997: SettingWithCopyWarning: \n",
      "A value is trying to be set on a copy of a slice from a DataFrame\n",
      "\n",
      "See the caveats in the documentation: https://pandas.pydata.org/pandas-docs/stable/user_guide/indexing.html#returning-a-view-versus-a-copy\n",
      "  errors=errors,\n"
     ]
    }
   ],
   "source": [
    "merged_t3 = pd.merge(left=merged_t1_t2,right=df_t3, left_on=['subj_idx', 'masking', 'condition'], right_on=['subj_idx', 'masking', 'condition'])\n",
    "merged_t4 = pd.merge(left=merged_t3, right=df_t4,left_on=['subj_idx', 'masking', 'condition'], right_on=['subj_idx', 'masking', 'condition'])\n",
    "merged_all = pd.merge(left=merged_t4, right=df_t5,left_on=['subj_idx', 'masking', 'condition'], right_on=['subj_idx', 'masking', 'condition'])\n",
    "\n",
    "condi = {1: 'low', 2: 'med', 3: \"high\"}\n",
    "merged_all[\"condition\"].replace(condi, inplace=True)\n",
    "\n",
    "merged_unmasked = merged_all[merged_all['masking']==0]\n",
    "merged_masked = merged_all[merged_all['masking']==1]\n",
    "\n",
    "merged_unmasked.drop(columns=['masking'], inplace=True)\n",
    "merged_masked.drop(columns=['masking'], inplace=True)\n",
    "#print(merged_unmasked.head(10))\n"
   ]
  },
  {
   "cell_type": "code",
   "execution_count": 5,
   "metadata": {},
   "outputs": [],
   "source": [
    "l_unmasked = pd.wide_to_long(merged_unmasked, stubnames='tp', i=['subj_idx', 'condition'], j='timepoint',\n",
    "...                     sep='_', suffix='\\w+')\n",
    "\n",
    "l_masked = pd.wide_to_long(merged_masked, stubnames='tp', i=['subj_idx', 'condition'], j='timepoint',\n",
    "...                     sep='_', suffix='\\w+')"
   ]
  },
  {
   "cell_type": "code",
   "execution_count": 6,
   "metadata": {},
   "outputs": [],
   "source": [
    "# print(l_unmasked.head(10))\n",
    "l_unmasked['tp']=l_unmasked['tp']*1e6\n",
    "# print(l_unmasked.head(10))\n",
    "\n",
    "# print(l_masked.head(10))\n",
    "l_masked['tp']=l_masked['tp']*1e6\n",
    "# print(l_masked.head(10))"
   ]
  },
  {
   "cell_type": "code",
   "execution_count": 7,
   "metadata": {},
   "outputs": [],
   "source": [
    "data_unmasked=l_unmasked\n",
    "data_unmasked = data_unmasked.reset_index(drop=False)\n",
    "\n",
    "data_masked=l_masked\n",
    "data_masked = data_masked.reset_index(drop=False)"
   ]
  },
  {
   "cell_type": "code",
   "execution_count": 8,
   "metadata": {},
   "outputs": [
    {
     "name": "stderr",
     "output_type": "stream",
     "text": [
      "C:\\Users\\noors\\anaconda3\\envs\\BP2\\lib\\site-packages\\ipykernel_launcher.py:38: MatplotlibDeprecationWarning: Unrecognized location 'bottom center'. Falling back on 'best'; valid locations are\n",
      "\tbest\n",
      "\tupper right\n",
      "\tupper left\n",
      "\tlower left\n",
      "\tlower right\n",
      "\tright\n",
      "\tcenter left\n",
      "\tcenter right\n",
      "\tlower center\n",
      "\tupper center\n",
      "\tcenter\n",
      "This will raise an exception in 3.3.\n"
     ]
    },
    {
     "data": {
      "image/png": "[encoded data removed]",
      "text/plain": [
       "<Figure size 216x216 with 1 Axes>"
      ]
     },
     "metadata": {},
     "output_type": "display_data"
    }
   ],
   "source": [
    "import seaborn as sns\n",
    "import matplotlib.pyplot as plt\n",
    "\n",
    "sns.set(style=\"ticks\")\n",
    "sns.set_context('talk')\n",
    "\n",
    "# Initialize the figure\n",
    "f, ax = plt.subplots(figsize=(3,3))\n",
    "#sns.despine(bottom=True, left=True)\n",
    "##sns.set(style=\"whitegrid\", color_codes=True)\n",
    "#sns.color_palette(\"Paired\")\n",
    "# Show each observation with a scatterplot\n",
    "#sns.stripplot(x=\"timepoint\", y=\"tp\", hue=\"condition\",hue_order=['low','med', 'high'],\n",
    "#              data=data, dodge=False, jitter=True,\n",
    "#              alpha=.4, zorder=1)\n",
    "\n",
    "#fig, (ax1, ax2) = plt.subplots(2, 1, sharex=True, figsize=(4, 6), frameon=False)\n",
    "\n",
    "# Show the conditional means\n",
    "# sns.pointplot(x=\"timepoint\", y=\"tp\", hue=\"condition\",hue_order=['low','med', 'high'],\n",
    "#                data=data_unmasked, dodge=.15, join=True,markers=[\"d\", \"o\", '*'],errwidth=1,\n",
    "#                  scale=1,bw=.2, palette=sns.color_palette([ \"red\",\"green\", \"blue\"]))\n",
    "\n",
    "ax =sns.pointplot(x=\"timepoint\", y=\"tp\", hue=\"condition\",hue_order=['low','med', 'high'],\n",
    "              data=data_unmasked, dodge=.15, join=True,markers=[\"d\", \"o\", '*'],errwidth=1.2,\n",
    "                  #legend = False, \n",
    "                  #bw = 0.5,\n",
    "                scale=0.75,bw=.2, \n",
    "              palette=sns.color_palette([ \"red\",\"green\", \"blue\"]), linestyle='--')\n",
    "\n",
    "#plt.setp(ax.ax.lines,linewidth=1.6)\n",
    "ax.set_yticks((-10,0,10,20,30,40))\n",
    "\n",
    "#Improve the legend \n",
    "handles, labels = ax.get_legend_handles_labels()\n",
    "ax.legend(handles[:1], labels[:1],\n",
    "          handletextpad=0, columnspacing=0.01,\n",
    "          loc=\"bottom center\", frameon=False)\n",
    "\n",
    "ax.set(ylim=(-16,42))\n",
    "plt.axhline(0,color='gray',linestyle='--',linewidth=0.9)\n",
    "#ax.set(title='unmasked')\n",
    "\n",
    "# sns.set_style(\"dark\",{'axes.axisbelow': True,\n",
    "#  'axes.edgecolor': 'black',\n",
    "#  'axes.facecolor': 'white',\n",
    "#  'axes.grid': False,\n",
    "#  'axes.labelcolor': 'black',\n",
    "#  'axes.spines.bottom': True,\n",
    "#  'axes.spines.left': False,\n",
    "#  'axes.spines.right': False,\n",
    "#  'axes.spines.top': False,\n",
    "#  'figure.facecolor': 'white',\n",
    "#  'font.family': ['sans-serif'],\n",
    "#  'font.sans-serif': ['Helvetica Neue Light',\n",
    "#   'DejaVu Sans',\n",
    "#   'Liberation Sans',\n",
    "#   'Bitstream Vera Sans',\n",
    "#   'sans-serif'],\n",
    "#  'grid.color': 'white',\n",
    "#  #'grid.linestyle': '-',\n",
    "#  'image.cmap': 'rocket',\n",
    "#  'lines.solid_capstyle': 'round',\n",
    "#  'patch.edgecolor': 'white',\n",
    "#  'patch.force_edgecolor': True,\n",
    "#  'text.color': 'black',\n",
    "#  'xtick.bottom': False,\n",
    "#  'xtick.color': '.15',\n",
    "#  'xtick.direction': 'out',\n",
    "#  'xtick.top': False,\n",
    "#  'ytick.color': '.15',\n",
    "#  'ytick.direction': 'out',\n",
    "#  'ytick.left': False,\n",
    "#  'ytick.right': False})\n",
    "\n",
    "#sns.set_context(\"paper\")\n",
    "#sns.set_context(\"paper\", font_scale=2.2, rc={\"lines.linewidth\": 3.5})\n",
    "sns.despine(offset=0, trim=True)\n",
    "\n"
   ]
  }
 ],
 "metadata": {
  "kernelspec": {
   "display_name": "BPenv",
   "language": "python",
   "name": "bpenv"
  },
  "language_info": {
   "codemirror_mode": {
    "name": "ipython",
    "version": 3
   },
   "file_extension": ".py",
   "mimetype": "text/x-python",
   "name": "python",
   "nbconvert_exporter": "python",
   "pygments_lexer": "ipython3",
   "version": "3.7.7"
  }
 },
 "nbformat": 4,
 "nbformat_minor": 2
}
